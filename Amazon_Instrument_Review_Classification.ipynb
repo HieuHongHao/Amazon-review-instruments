{
  "nbformat": 4,
  "nbformat_minor": 0,
  "metadata": {
    "colab": {
      "name": "Amazon_Instrument_Review_Classification",
      "provenance": [],
      "collapsed_sections": [],
      "authorship_tag": "ABX9TyMgzRQl/d4NTtsk2vnkpIKP",
      "include_colab_link": true
    },
    "kernelspec": {
      "name": "python3",
      "display_name": "Python 3"
    },
    "language_info": {
      "name": "python"
    }
  },
  "cells": [
    {
      "cell_type": "markdown",
      "metadata": {
        "id": "view-in-github",
        "colab_type": "text"
      },
      "source": [
        "<a href=\"https://colab.research.google.com/github/HieuHongHao/Amazon-review-instruments/blob/main/Amazon_Instrument_Review_Classification.ipynb\" target=\"_parent\"><img src=\"https://colab.research.google.com/assets/colab-badge.svg\" alt=\"Open In Colab\"/></a>"
      ]
    },
    {
      "cell_type": "code",
      "metadata": {
        "id": "yENJJvjl--O-"
      },
      "source": [
        "from google.colab import drive\n",
        "from math import nan\n",
        "import tensorflow as tf\n",
        "import pandas as pd\n",
        "import numpy as np\n",
        "from tensorflow.keras.models import Sequential\n",
        "from tensorflow.keras.layers import Activation,Dense,Embedding,LSTM\n",
        "from tensorflow.keras.preprocessing.text import one_hot\n",
        "from tensorflow.python.training.tracking.base import no_manual_dependency_tracking_scope\n",
        "from sklearn.model_selection import train_test_split\n",
        "from tensorflow.keras.preprocessing.sequence import pad_sequences\n",
        "\n",
        "\n",
        "\n",
        "\n",
        "    "
      ],
      "execution_count": null,
      "outputs": []
    },
    {
      "cell_type": "code",
      "source": [
        "pwd"
      ],
      "metadata": {
        "colab": {
          "base_uri": "https://localhost:8080/",
          "height": 35
        },
        "id": "lo_zm2RTqrmC",
        "outputId": "f0cd97ff-a6b7-4b1e-ee22-9fec20b52759"
      },
      "execution_count": null,
      "outputs": [
        {
          "output_type": "execute_result",
          "data": {
            "application/vnd.google.colaboratory.intrinsic+json": {
              "type": "string"
            },
            "text/plain": [
              "'/content'"
            ]
          },
          "metadata": {},
          "execution_count": 22
        }
      ]
    },
    {
      "cell_type": "code",
      "metadata": {
        "id": "7QDBlh_g7Kbh"
      },
      "source": [
        "#Extract reviews and overall scores\n",
        "drive.mount('/content/gdrive')\n",
        "data = pd.read_csv('/content/gdrive/My Drive/Colab Notebooks')\n",
        "data = data.dropna() # drop missing values \n",
        "data = data[['reviewText','overall']]\n",
        "reviews = np.array(data['reviewText'])\n",
        "scores = data['overall']\n",
        "scores = np.array(scores)\n",
        "scores = np.array([1 if score >= 3 else 0 for score in scores])\n"
      ],
      "execution_count": null,
      "outputs": []
    },
    {
      "cell_type": "code",
      "metadata": {
        "id": "Rg4bx8g7_DNS"
      },
      "source": [
        "vocabSize = 10000\n",
        "reviews = [one_hot(doc,vocabSize,filters='!\"#$%&()*+,-./:;<=>?@[\\\\]^_`{|}~\\t\\n') for doc in reviews]"
      ],
      "execution_count": null,
      "outputs": []
    },
    {
      "cell_type": "code",
      "metadata": {
        "id": "WZJcdhrM6sTA"
      },
      "source": [
        "maxSentLen = 0\n",
        "for doc in reviews:\n",
        "  if(len(doc) > maxSentLen):\n",
        "    maxSentLen = len(doc)\n",
        "embedded_docs = pad_sequences(reviews,padding=\"pre\",maxlen = maxSentLen)\n"
      ],
      "execution_count": null,
      "outputs": []
    },
    {
      "cell_type": "code",
      "metadata": {
        "colab": {
          "base_uri": "https://localhost:8080/"
        },
        "id": "snb489ovJI6F",
        "outputId": "c6abb919-cbb4-48fc-8055-7ae143d6662a"
      },
      "source": [
        "embedded_docs"
      ],
      "execution_count": null,
      "outputs": [
        {
          "output_type": "execute_result",
          "data": {
            "text/plain": [
              "array([[   0,    0,    0, ..., 3235, 2942, 3146],\n",
              "       [   0,    0,    0, ...,  752, 9556, 3440],\n",
              "       [   0,    0,    0, ..., 5841, 2683, 9310],\n",
              "       ...,\n",
              "       [   0,    0,    0, ..., 2683, 1913,  794],\n",
              "       [   0,    0,    0, ..., 1526, 1496, 1851],\n",
              "       [   0,    0,    0, ..., 8766, 8766, 5825]], dtype=int32)"
            ]
          },
          "metadata": {},
          "execution_count": 42
        }
      ]
    },
    {
      "cell_type": "code",
      "metadata": {
        "colab": {
          "base_uri": "https://localhost:8080/"
        },
        "id": "aT3sq_2v9d9H",
        "outputId": "feb24549-f3a2-4a48-bf1c-c429afb3b643"
      },
      "source": [
        "Vector_features = 100\n",
        "model = Sequential()\n",
        "model.add(Embedding(vocabSize,Vector_features,input_length = maxSentLen))\n",
        "model.add(LSTM(100))  \n",
        "model.add(Dense(1,activation=\"sigmoid\")) \n",
        "model.compile(loss = 'binary_crossentropy', optimizer = 'adam', metrics = ['accuracy'])\n",
        "model.summary()"
      ],
      "execution_count": null,
      "outputs": [
        {
          "output_type": "stream",
          "name": "stdout",
          "text": [
            "Model: \"sequential\"\n",
            "_________________________________________________________________\n",
            " Layer (type)                Output Shape              Param #   \n",
            "=================================================================\n",
            " embedding (Embedding)       (None, 2059, 100)         1000000   \n",
            "                                                                 \n",
            " lstm (LSTM)                 (None, 100)               80400     \n",
            "                                                                 \n",
            " dense (Dense)               (None, 1)                 101       \n",
            "                                                                 \n",
            "=================================================================\n",
            "Total params: 1,080,501\n",
            "Trainable params: 1,080,501\n",
            "Non-trainable params: 0\n",
            "_________________________________________________________________\n"
          ]
        }
      ]
    },
    {
      "cell_type": "code",
      "metadata": {
        "id": "Xmo9mDYH_8x1"
      },
      "source": [
        "x_train,x_test,y_train,y_test = train_test_split(np.array(embedded_docs),scores,test_size = 0.33,random_state = 42)\n",
        "x_train = np.array(x_train)\n",
        "x_test = np.array(x_test)\n",
        "y_train = np.array(y_train)\n",
        "y_test = np.array(y_test)"
      ],
      "execution_count": null,
      "outputs": []
    },
    {
      "cell_type": "code",
      "metadata": {
        "id": "6D8z12uKAjpO"
      },
      "source": [
        "model.fit(x_train,y_train,validation_data=(x_test,y_test),epochs= 10, batch_size= 64)"
      ],
      "execution_count": null,
      "outputs": []
    },
    {
      "cell_type": "code",
      "metadata": {
        "id": "QpPT6kBs0vS_"
      },
      "source": [
        "y_pred = model.predict(x_test)\n",
        "y_pred = (model.predict(x_test) > 0.5).astype(\"int32\")\n"
      ],
      "execution_count": null,
      "outputs": []
    },
    {
      "cell_type": "code",
      "metadata": {
        "colab": {
          "base_uri": "https://localhost:8080/"
        },
        "id": "DY6u5q6L1AwP",
        "outputId": "5aa870e3-ee01-487d-911b-0c7bd761c784"
      },
      "source": [
        "from tensorflow.keras.metrics import Accuracy\n",
        "measures = Accuracy()\n",
        "measures.update_state(y_test,y_pred)\n",
        "measures.result().numpy()\n"
      ],
      "execution_count": null,
      "outputs": [
        {
          "output_type": "execute_result",
          "data": {
            "text/plain": [
              "0.93244445"
            ]
          },
          "metadata": {},
          "execution_count": 38
        }
      ]
    }
  ]
}